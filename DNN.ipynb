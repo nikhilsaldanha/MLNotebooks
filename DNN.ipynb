{
 "cells": [
  {
   "cell_type": "markdown",
   "metadata": {},
   "source": [
    "# Tensorflow Implementation of a simple Feedforward Deep Neural Network"
   ]
  },
  {
   "cell_type": "code",
   "execution_count": 1,
   "metadata": {},
   "outputs": [
    {
     "name": "stderr",
     "output_type": "stream",
     "text": [
      "/Users/nikilsaldanaha/Documents/Code/MLNotebooks/env/lib/python3.6/importlib/_bootstrap.py:219: RuntimeWarning: compiletime version 3.5 of module 'tensorflow.python.framework.fast_tensor_util' does not match runtime version 3.6\n",
      "  return f(*args, **kwds)\n"
     ]
    }
   ],
   "source": [
    "import tensorflow as tf\n",
    "import numpy as np\n",
    "\n",
    "from sklearn.metrics import accuracy_score"
   ]
  },
  {
   "cell_type": "markdown",
   "metadata": {},
   "source": [
    "### Test out implementation on MNIST Dataset"
   ]
  },
  {
   "cell_type": "code",
   "execution_count": 2,
   "metadata": {},
   "outputs": [],
   "source": [
    "# load mnist data\n",
    "(X_train, y_train), (X_test, y_test) = tf.keras.datasets.mnist.load_data()\n",
    "\n",
    "# reshape and normalize data\n",
    "X_train = X_train.astype(np.float32).reshape(-1, 28*28) / 255.0\n",
    "X_test = X_test.astype(np.float32).reshape(-1, 28*28) / 255.0\n",
    "\n",
    "# convert labels to integer\n",
    "y_train = y_train.astype(np.int32)\n",
    "y_test = y_test.astype(np.int32)\n",
    "\n",
    "# split dataset into train and validation set\n",
    "X_valid, X_train = X_train[:5000], X_train[5000:]\n",
    "y_valid, y_train = y_train[:5000], y_train[5000:]"
   ]
  },
  {
   "cell_type": "code",
   "execution_count": 80,
   "metadata": {},
   "outputs": [],
   "source": [
    "# input and output shapes\n",
    "n_inputs = 28*28 # shape of MNIST images\n",
    "n_hidden1 = 300 # 1st layer\n",
    "n_hidden2 = 100 # 2nd layer\n",
    "n_outputs = 10 # output layer, 10 digits\n",
    "\n",
    "# hyperparameters\n",
    "n_epochs = 40\n",
    "batch_size = 50\n",
    "learning_rate = 0.01\n",
    "\n",
    "model_name = \"dnn-mnist\""
   ]
  },
  {
   "cell_type": "code",
   "execution_count": 81,
   "metadata": {},
   "outputs": [],
   "source": [
    "tf.reset_default_graph()\n",
    "# feature input\n",
    "X = tf.placeholder(dtype=tf.float32, shape=(None, n_inputs), name=\"X\")\n",
    "\n",
    "# labels\n",
    "y = tf.placeholder(dtype=tf.int32, shape=(None,), name=\"y\")"
   ]
  },
  {
   "cell_type": "code",
   "execution_count": 82,
   "metadata": {},
   "outputs": [],
   "source": [
    "def dense_layer(X, size, name, activation=None):\n",
    "    \"\"\"method that encapsulates a single layer of a feedforward neural network\"\"\"\n",
    "\n",
    "    with tf.name_scope(name):\n",
    "        input_size = int(X.get_shape()[1])\n",
    "        # sample according to xavier weight initialization technique\n",
    "        xavier_initialization = tf.truncated_normal((input_size, size), stddev=2/np.sqrt(input_size))\n",
    "        W = tf.Variable(xavier_initialization, dtype=tf.float32, name=\"weight\")\n",
    "        b = tf.Variable(np.zeros([size]), dtype=tf.float32, name=\"bias\")\n",
    "        z = tf.matmul(X, W) + b\n",
    "        if activation == \"relu\":\n",
    "            return tf.nn.relu(z)\n",
    "        else:\n",
    "            return z"
   ]
  },
  {
   "cell_type": "code",
   "execution_count": 83,
   "metadata": {},
   "outputs": [],
   "source": [
    "# two layer neural network\n",
    "with tf.name_scope(\"dnn\"):\n",
    "    hidden1 = dense_layer(X, n_hidden1, \"hidden1\", activation=\"relu\")\n",
    "    hidden2 = dense_layer(hidden1, n_hidden2, \"hidden2\", activation=\"relu\")\n",
    "    logits = dense_layer(hidden2, n_outputs, \"outputs\")"
   ]
  },
  {
   "cell_type": "code",
   "execution_count": 84,
   "metadata": {},
   "outputs": [],
   "source": [
    "# cross-entropy loss\n",
    "with tf.name_scope(\"loss\"):\n",
    "    cross_entropy = tf.nn.sparse_softmax_cross_entropy_with_logits(labels=y, logits=logits)\n",
    "    loss = tf.reduce_mean(cross_entropy, name=\"loss\")\n",
    "    loss_summary = tf.summary.scalar('log_loss', loss)"
   ]
  },
  {
   "cell_type": "code",
   "execution_count": 85,
   "metadata": {},
   "outputs": [],
   "source": [
    "# gradient descent optimizer\n",
    "with tf.name_scope(\"optimizer\"):\n",
    "    optimizer = tf.train.GradientDescentOptimizer(learning_rate)\n",
    "    training_op = optimizer.minimize(loss)"
   ]
  },
  {
   "cell_type": "code",
   "execution_count": 86,
   "metadata": {},
   "outputs": [],
   "source": [
    "# accuracy metric\n",
    "with tf.name_scope(\"evaluate\"):\n",
    "    # tp: images that we predicted correctly\n",
    "    tp = tf.nn.in_top_k(logits, y, 1)\n",
    "    accuracy = tf.reduce_mean(tf.cast(tp, tf.float32))\n",
    "    accuracy_summary = tf.summary.scalar('accuracy', accuracy)"
   ]
  },
  {
   "cell_type": "code",
   "execution_count": 87,
   "metadata": {},
   "outputs": [],
   "source": [
    "def shuffle_batch(X, y, batch_size):\n",
    "    rnd_idx = np.random.permutation(len(X))\n",
    "    n_batches = len(X) // batch_size\n",
    "    for batch_idx in np.array_split(rnd_idx, n_batches):\n",
    "        X_batch, y_batch = X[batch_idx], y[batch_idx]\n",
    "        yield X_batch, y_batch"
   ]
  },
  {
   "cell_type": "code",
   "execution_count": 88,
   "metadata": {},
   "outputs": [],
   "source": [
    "init = tf.global_variables_initializer()\n",
    "saver = tf.train.Saver()\n",
    "summary_op = tf.summary.merge_all()"
   ]
  },
  {
   "cell_type": "code",
   "execution_count": 89,
   "metadata": {},
   "outputs": [
    {
     "name": "stdout",
     "output_type": "stream",
     "text": [
      "0 Validation accuracy: 0.9194 , Validaton Loss: 0.30003527\n",
      "1 Validation accuracy: 0.9326 , Validaton Loss: 0.23755257\n",
      "2 Validation accuracy: 0.9408 , Validaton Loss: 0.20630664\n",
      "3 Validation accuracy: 0.949 , Validaton Loss: 0.18060751\n",
      "4 Validation accuracy: 0.9546 , Validaton Loss: 0.16556223\n",
      "5 Validation accuracy: 0.9578 , Validaton Loss: 0.15209463\n",
      "6 Validation accuracy: 0.9622 , Validaton Loss: 0.14075862\n",
      "7 Validation accuracy: 0.9616 , Validaton Loss: 0.13801004\n",
      "8 Validation accuracy: 0.9666 , Validaton Loss: 0.12686086\n",
      "9 Validation accuracy: 0.9656 , Validaton Loss: 0.120537706\n",
      "10 Validation accuracy: 0.968 , Validaton Loss: 0.11677975\n",
      "11 Validation accuracy: 0.971 , Validaton Loss: 0.11036893\n",
      "12 Validation accuracy: 0.973 , Validaton Loss: 0.10595713\n",
      "13 Validation accuracy: 0.9732 , Validaton Loss: 0.1030479\n",
      "14 Validation accuracy: 0.9736 , Validaton Loss: 0.09880702\n",
      "15 Validation accuracy: 0.9742 , Validaton Loss: 0.09673351\n",
      "16 Validation accuracy: 0.974 , Validaton Loss: 0.09441289\n",
      "17 Validation accuracy: 0.9762 , Validaton Loss: 0.09012367\n",
      "18 Validation accuracy: 0.9752 , Validaton Loss: 0.08865757\n",
      "19 Validation accuracy: 0.9766 , Validaton Loss: 0.08719172\n",
      "20 Validation accuracy: 0.977 , Validaton Loss: 0.085466824\n",
      "21 Validation accuracy: 0.9764 , Validaton Loss: 0.08366257\n",
      "22 Validation accuracy: 0.9762 , Validaton Loss: 0.08424586\n",
      "23 Validation accuracy: 0.9774 , Validaton Loss: 0.08039034\n",
      "24 Validation accuracy: 0.9774 , Validaton Loss: 0.07941202\n",
      "25 Validation accuracy: 0.9778 , Validaton Loss: 0.07806215\n",
      "26 Validation accuracy: 0.9778 , Validaton Loss: 0.076237194\n",
      "27 Validation accuracy: 0.9782 , Validaton Loss: 0.07606621\n",
      "28 Validation accuracy: 0.9782 , Validaton Loss: 0.07709209\n",
      "29 Validation accuracy: 0.9774 , Validaton Loss: 0.07470781\n",
      "30 Validation accuracy: 0.9778 , Validaton Loss: 0.074031405\n",
      "31 Validation accuracy: 0.9778 , Validaton Loss: 0.073645055\n",
      "32 Validation accuracy: 0.978 , Validaton Loss: 0.07371206\n",
      "33 Validation accuracy: 0.9776 , Validaton Loss: 0.07389036\n",
      "34 Validation accuracy: 0.978 , Validaton Loss: 0.073012345\n",
      "35 Validation accuracy: 0.9792 , Validaton Loss: 0.07129711\n",
      "36 Validation accuracy: 0.9788 , Validaton Loss: 0.07057502\n",
      "37 Validation accuracy: 0.9778 , Validaton Loss: 0.07225262\n",
      "38 Validation accuracy: 0.9798 , Validaton Loss: 0.070588134\n",
      "39 Validation accuracy: 0.9796 , Validaton Loss: 0.070162304\n"
     ]
    }
   ],
   "source": [
    "with tf.Session() as sess:\n",
    "    init.run()\n",
    "    train_writer = tf.summary.FileWriter(\"tf_logs/{model}/train_summary\".format(model=model_name), sess.graph)\n",
    "    valid_writer = tf.summary.FileWriter(\"tf_logs/{model}/valid_summary\".format(model=model_name), sess.graph)\n",
    "    for epoch in range(n_epochs):\n",
    "        for i, (X_batch, y_batch) in enumerate(shuffle_batch(X_train, y_train, batch_size)):\n",
    "            _, train_summary = sess.run([training_op, summary_op], feed_dict={X: X_batch, y: y_batch})\n",
    "#             if i % 10 == 0:\n",
    "        train_writer.add_summary(train_summary, epoch)\n",
    "        accuracy_val, loss_val, valid_summary = sess.run([accuracy, loss, summary_op], feed_dict={X: X_valid, y: y_valid})\n",
    "        valid_writer.add_summary(valid_summary, epoch)\n",
    "#         summary_writer.add_summary(loss_summary_str, epoch)\n",
    "        print(epoch, \"Validation accuracy:\", accuracy_val, \", Validaton Loss:\", loss_val)\n",
    "\n",
    "    save_path = saver.save(sess, \"tf_logs/{model}/model.ckpt\".format(model=model_name))"
   ]
  },
  {
   "cell_type": "code",
   "execution_count": 90,
   "metadata": {},
   "outputs": [
    {
     "name": "stdout",
     "output_type": "stream",
     "text": [
      "INFO:tensorflow:Restoring parameters from tf_logs/dnn-mnist-8/model.ckpt\n"
     ]
    }
   ],
   "source": [
    "# restore the model and get predictions for test set\n",
    "with tf.Session() as sess:\n",
    "    saver.restore(sess, \"tf_logs/{model}/model.ckpt\".format(model=model_name)) # or better, use save_path\n",
    "    logits_val = logits.eval(feed_dict={X: X_test})\n",
    "    y_pred = np.argmax(logits_val, axis=1)"
   ]
  },
  {
   "cell_type": "code",
   "execution_count": 91,
   "metadata": {},
   "outputs": [
    {
     "name": "stdout",
     "output_type": "stream",
     "text": [
      "test set accuracy:  0.9762\n"
     ]
    }
   ],
   "source": [
    "# get accuracy of test set\n",
    "accuracy = accuracy_score(y_true=y_test, y_pred=y_pred)\n",
    "print(\"test set accuracy: \", accuracy)"
   ]
  }
 ],
 "metadata": {
  "kernelspec": {
   "display_name": "Python 3",
   "language": "python",
   "name": "python3"
  },
  "language_info": {
   "codemirror_mode": {
    "name": "ipython",
    "version": 3
   },
   "file_extension": ".py",
   "mimetype": "text/x-python",
   "name": "python",
   "nbconvert_exporter": "python",
   "pygments_lexer": "ipython3",
   "version": "3.6.5"
  }
 },
 "nbformat": 4,
 "nbformat_minor": 2
}
